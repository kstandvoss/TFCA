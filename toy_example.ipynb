{
 "cells": [
  {
   "cell_type": "code",
   "execution_count": 1,
   "metadata": {
    "collapsed": false,
    "deletable": true,
    "editable": true
   },
   "outputs": [
    {
     "name": "stderr",
     "output_type": "stream",
     "text": [
      "/Users/apple1/TFCA/nengo-dl/nengo_dl/__init__.py:17: UserWarning: No GPU support detected. It is recommended that you install tensorflow-gpu (`pip install tensorflow-gpu`).\n",
      "  warnings.warn(\"No GPU support detected. It is recommended that you \"\n"
     ]
    }
   ],
   "source": [
    "%matplotlib inline\n",
    "\n",
    "import nengo\n",
    "import nengo_dl\n",
    "import tensorflow as tf\n",
    "import numpy as np\n",
    "import matplotlib.pyplot as plt"
   ]
  },
  {
   "cell_type": "code",
   "execution_count": 73,
   "metadata": {
    "collapsed": false
   },
   "outputs": [
    {
     "data": {
      "text/plain": [
       "Choice(options=array([100.]))"
      ]
     },
     "execution_count": 73,
     "metadata": {},
     "output_type": "execute_result"
    }
   ],
   "source": [
    "nengo.dists.Choice([100])"
   ]
  },
  {
   "cell_type": "code",
   "execution_count": 108,
   "metadata": {
    "collapsed": false,
    "deletable": true,
    "editable": true
   },
   "outputs": [],
   "source": [
    "# lif parameters\n",
    "lif_neurons = nengo.LIF(tau_rc=0.02, tau_ref=0.002, amplitude=0.01)\n",
    "\n",
    "# softlif parameters (lif parameters + sigma)\n",
    "softlif_neurons = nengo_dl.SoftLIFRate(tau_rc=0.02, tau_ref=0.002,amplitude=0.1,\n",
    "                                       sigma=0.002)\n",
    "\n",
    "# ensemble parameters\n",
    "ens_params = dict(max_rates=nengo.dists.Choice([100]), intercepts=nengo.dists.Choice([0]))\n",
    "#ens_params = dict(max_rates=nengo.dists.Uniform(0, 1), intercepts=nengo.dists.Choice([0]))"
   ]
  },
  {
   "cell_type": "code",
   "execution_count": 109,
   "metadata": {
    "collapsed": false,
    "deletable": true,
    "editable": true
   },
   "outputs": [
    {
     "data": {
      "image/png": "[encoded data removed]",
      "text/plain": [
       "<matplotlib.figure.Figure at 0x1227b10b8>"
      ]
     },
     "metadata": {},
     "output_type": "display_data"
    }
   ],
   "source": [
    "train = 0.35 * np.random.randn(1000)\n",
    "test = 0.35 * np.random.randn(100)\n",
    "target = np.linspace(-1, 1, 1000)\n",
    "y = lambda x: x #* np.sin(x)\n",
    "plt.figure()\n",
    "plt.plot(target, y(target), label=\"x\")\n",
    "plt.scatter(train,y(train), color='black')\n",
    "plt.scatter(test,y(test), color='red')\n",
    "plt.xlabel(\"time\")\n",
    "plt.ylabel(\"value\")\n",
    "plt.legend();"
   ]
  },
  {
   "cell_type": "code",
   "execution_count": 120,
   "metadata": {
    "collapsed": false,
    "deletable": true,
    "editable": true
   },
   "outputs": [
    {
     "name": "stdout",
     "output_type": "stream",
     "text": [
      "Building network\n",
      "Build finished in 0:00:00 \n",
      "Optimization finished in 0:00:00                                               \n",
      "Construction finished in 0:00:00                                               \n"
     ]
    }
   ],
   "source": [
    "def build_network(neuron_type):\n",
    "    with nengo.Network() as net:\n",
    "\n",
    "        #nengo_dl.configure_settings(trainable=False)\n",
    "\n",
    "        inp = nengo.Node([0])\n",
    "        \n",
    "        x = nengo_dl.tensor_layer(inp, tf.layers.dense, units=10, shape_in=(1,))\n",
    "        \n",
    "        #x = nengo_dl.tensor_layer(x, nengo.RectifiedLinear())\n",
    "        x = nengo_dl.tensor_layer(x, neuron_type, **ens_params)\n",
    "        \n",
    "        #x = nengo_dl.tensor_layer(x, tf.layers.dense, units=10)\n",
    "        \n",
    "       # x = nengo_dl.tensor_layer(x, neuron_type, **ens_params)\n",
    "        \n",
    "        #x, conn = nengo_dl.tensor_layer(\n",
    "        #    x, neuron_type, **ens_params, transform=nengo_dl.dists.Glorot(), return_conn=True)\n",
    "\n",
    "        #net.config[x].trainable = True\n",
    "        #net.config[conn].trainable = True\n",
    "\n",
    "        # add a dropout layer\n",
    "        #x = nengo_dl.tensor_layer(x, tf.layers.dropout, rate=0.4)\n",
    "\n",
    "        x = nengo_dl.tensor_layer(x, tf.layers.dense, units=1)\n",
    "\n",
    "    return net, inp, x\n",
    "\n",
    "# construct the network\n",
    "net, inp, out = build_network(softlif_neurons)\n",
    "with net:\n",
    "    in_p = nengo.Probe(inp)\n",
    "    out_p = nengo.Probe(out)\n",
    "\n",
    "# construct the simulator\n",
    "minibatch_size = 10\n",
    "sim = nengo_dl.Simulator(net, minibatch_size=minibatch_size, tensorboard='/Users/apple1/TFCA')"
   ]
  },
  {
   "cell_type": "code",
   "execution_count": 121,
   "metadata": {
    "collapsed": true,
    "deletable": true,
    "editable": true
   },
   "outputs": [],
   "source": [
    "traint = train[:,None,None]\n",
    "testt = test[:,None,None]\n",
    "train_x = {inp: traint}\n",
    "train_y = {out_p: y(traint)}\n",
    "test_x = {inp: testt}\n",
    "test_y = {out_p: y(testt)}"
   ]
  },
  {
   "cell_type": "code",
   "execution_count": 122,
   "metadata": {
    "collapsed": true,
    "deletable": true,
    "editable": true
   },
   "outputs": [],
   "source": [
    "#opt = tf.train.MomentumOptimizer(learning_rate=0.0002, momentum=0.9, use_nesterov=True)\n",
    "opt = tf.train.RMSPropOptimizer(2e-3)"
   ]
  },
  {
   "cell_type": "code",
   "execution_count": null,
   "metadata": {
    "collapsed": false,
    "deletable": true,
    "editable": true
   },
   "outputs": [
    {
     "name": "stdout",
     "output_type": "stream",
     "text": [
      "INFO:tensorflow:Restoring parameters from /var/folders/qd/c965ltdd52v33r5tcsy78dsh0000gr/T/tmpeux5llyi/tmp\n"
     ]
    },
    {
     "name": "stderr",
     "output_type": "stream",
     "text": [
      "INFO:tensorflow:Restoring parameters from /var/folders/qd/c965ltdd52v33r5tcsy78dsh0000gr/T/tmpeux5llyi/tmp\n"
     ]
    },
    {
     "name": "stdout",
     "output_type": "stream",
     "text": [
      "error before training:  5.87288990020752\n",
      "|#################Training (97%)################  | ETA: 0:00:00 (loss: 0.0003)"
     ]
    }
   ],
   "source": [
    "print(\"error before training: \", sim.loss(test_x, test_y, objective='mse'))\n",
    "\n",
    "sim.train(train_x, train_y, opt, n_epochs=100, objective='mse')\n",
    "\n",
    "print(\"error after training:\", sim.loss(test_x, test_y, objective='mse'))\n",
    "\n",
    "sim.close()"
   ]
  },
  {
   "cell_type": "code",
   "execution_count": 119,
   "metadata": {
    "collapsed": false,
    "deletable": true,
    "editable": true,
    "scrolled": true
   },
   "outputs": [
    {
     "name": "stdout",
     "output_type": "stream",
     "text": [
      "Building network\n",
      "Build finished in 0:00:00 \n",
      "Optimization finished in 0:00:00                                               \n",
      "Construction finished in 0:00:00                                               \n",
      "Simulation finished in 0:00:00                                                 \n"
     ]
    },
    {
     "data": {
      "text/plain": [
       "<matplotlib.legend.Legend at 0x12312ab38>"
      ]
     },
     "execution_count": 119,
     "metadata": {},
     "output_type": "execute_result"
    },
    {
     "data": {
      "image/png": "[encoded data removed]",
      "text/plain": [
       "<matplotlib.figure.Figure at 0x120f6def0>"
      ]
     },
     "metadata": {},
     "output_type": "display_data"
    }
   ],
   "source": [
    "with nengo_dl.Simulator(net, minibatch_size=100) as sim:\n",
    "    sim.run_steps(1,input_feeds={inp: traint[:100]})\n",
    "\n",
    "indx = np.argsort(np.squeeze(sim.data[in_p]))\n",
    "plt.plot(np.squeeze(sim.data[in_p])[indx],np.squeeze(sim.data[out_p])[indx],label='out')\n",
    "plt.plot(np.squeeze(sim.data[in_p])[indx],np.squeeze(y(sim.data[in_p]))[indx],label='target')\n",
    "plt.legend()"
   ]
  },
  {
   "cell_type": "code",
   "execution_count": 105,
   "metadata": {
    "collapsed": false,
    "deletable": true,
    "editable": true
   },
   "outputs": [
    {
     "name": "stdout",
     "output_type": "stream",
     "text": [
      "Building network\n",
      "Build finished in 0:00:00 \n",
      "Optimization finished in 0:00:00                                               \n",
      "Construction finished in 0:00:00                                               \n",
      "Simulation finished in 0:00:00                                                 \n",
      "[[[1.8741757]]]\n",
      "[[1.87417563]]\n",
      "[[[-34.266487]]]\n",
      "[[1.87417563]]\n"
     ]
    }
   ],
   "source": [
    "with nengo_dl.Simulator(net, minibatch_size=1) as sim:\n",
    "    sim.run_steps(1,input_feeds={inp: traint[0:1]})\n",
    "    print(sim.data[in_p])\n",
    "    print(traint[0])\n",
    "    print(sim.data[out_p])\n",
    "    print(y(traint[0]))"
   ]
  },
  {
   "cell_type": "code",
   "execution_count": null,
   "metadata": {
    "collapsed": true,
    "deletable": true,
    "editable": true
   },
   "outputs": [],
   "source": []
  }
 ],
 "metadata": {
  "kernelspec": {
   "display_name": "Python 3",
   "language": "python",
   "name": "python3"
  },
  "language_info": {
   "codemirror_mode": {
    "name": "ipython",
    "version": 3
   },
   "file_extension": ".py",
   "mimetype": "text/x-python",
   "name": "python",
   "nbconvert_exporter": "python",
   "pygments_lexer": "ipython3",
   "version": "3.6.0"
  }
 },
 "nbformat": 4,
 "nbformat_minor": 2
}
