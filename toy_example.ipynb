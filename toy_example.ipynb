{
 "cells": [
  {
   "cell_type": "code",
   "execution_count": 1,
   "metadata": {
    "collapsed": false,
    "deletable": true,
    "editable": true
   },
   "outputs": [
    {
     "name": "stderr",
     "output_type": "stream",
     "text": [
      "/Users/apple1/TFCA/nengo-dl/nengo_dl/__init__.py:17: UserWarning: No GPU support detected. It is recommended that you install tensorflow-gpu (`pip install tensorflow-gpu`).\n",
      "  warnings.warn(\"No GPU support detected. It is recommended that you \"\n"
     ]
    }
   ],
   "source": [
    "%matplotlib inline\n",
    "\n",
    "import nengo\n",
    "import nengo_dl\n",
    "import tensorflow as tf\n",
    "import numpy as np\n",
    "import matplotlib.pyplot as plt"
   ]
  },
  {
   "cell_type": "code",
   "execution_count": 369,
   "metadata": {
    "collapsed": false,
    "deletable": true,
    "editable": true
   },
   "outputs": [],
   "source": [
    "lif_params = {\n",
    "    'tau_rc': 0.01,\n",
    "    'tau_ref': 0.001,\n",
    "    'amplitude': 0.01\n",
    "}\n",
    "\n",
    "# lif parameters\n",
    "lif_neurons = nengo.LIF(**lif_params)\n",
    "\n",
    "# softlif parameters (lif parameters + sigma)\n",
    "softlif_neurons = nengo_dl.SoftLIFRate(**lif_params,\n",
    "                                       sigma=0.002)\n",
    "\n",
    "# ensemble parameters\n",
    "ens_params = dict(max_rates=nengo.dists.Choice([100]), intercepts=nengo.dists.Choice([0]))\n",
    "#ens_params = dict(max_rates=nengo.dists.Uniform(0, 1), intercepts=nengo.dists.Choice([0]))"
   ]
  },
  {
   "cell_type": "code",
   "execution_count": 370,
   "metadata": {
    "collapsed": false,
    "deletable": true,
    "editable": true
   },
   "outputs": [
    {
     "data": {
      "image/png": "[encoded data removed]",
      "text/plain": [
       "<matplotlib.figure.Figure at 0x1253036d8>"
      ]
     },
     "metadata": {},
     "output_type": "display_data"
    }
   ],
   "source": [
    "train = 3. * np.random.randn(20)\n",
    "test = 3. * np.random.randn(100)\n",
    "target = np.linspace(-8, 8, 1000)\n",
    "y = lambda x: x * np.sin(x)\n",
    "plt.figure()\n",
    "plt.plot(target, y(target), label=\"x\")\n",
    "plt.scatter(train,y(train), color='black')\n",
    "plt.scatter(test,y(test), color='red')\n",
    "plt.xlabel(\"time\")\n",
    "plt.ylabel(\"value\")\n",
    "plt.legend();"
   ]
  },
  {
   "cell_type": "code",
   "execution_count": 371,
   "metadata": {
    "collapsed": true,
    "deletable": true,
    "editable": true
   },
   "outputs": [],
   "source": [
    "drop_p = 0.05"
   ]
  },
  {
   "cell_type": "code",
   "execution_count": 372,
   "metadata": {
    "collapsed": false,
    "deletable": true,
    "editable": true
   },
   "outputs": [],
   "source": [
    "def build_network(neuron_type, n_units=100, use_dropout=True):\n",
    "    with nengo.Network() as net:\n",
    "        \n",
    "        #net.config[nengo.Connection].synapse = None\n",
    "        #nengo_dl.configure_settings(trainable=False)\n",
    "\n",
    "        inp = nengo.Node([0])\n",
    "        \n",
    "        # add a dropout layer\n",
    "        x = nengo_dl.tensor_layer(inp, tf.layers.dropout, rate=drop_p, training=use_dropout)\n",
    "        \n",
    "        x = nengo_dl.tensor_layer(x, tf.layers.dense, units=n_units, shape_in=(1,))\n",
    "        x = nengo_dl.tensor_layer(x, neuron_type, **ens_params)\n",
    "        \n",
    "        # add a dropout layer\n",
    "        x = nengo_dl.tensor_layer(x, tf.layers.dropout, rate=drop_p, training=use_dropout)\n",
    "        \n",
    "        x = nengo_dl.tensor_layer(x, tf.layers.dense, units=n_units)\n",
    "        x = nengo_dl.tensor_layer(x, neuron_type, **ens_params)\n",
    "        \n",
    "        x = nengo_dl.tensor_layer(x, tf.layers.dense, units=1)\n",
    "\n",
    "    return net, inp, x\n",
    "\n"
   ]
  },
  {
   "cell_type": "code",
   "execution_count": 399,
   "metadata": {
    "collapsed": false
   },
   "outputs": [
    {
     "name": "stdout",
     "output_type": "stream",
     "text": [
      "Building network\n",
      "Build finished in 0:00:00 \n",
      "Optimization finished in 0:00:00                                               \n",
      "|          Constructing graph: unrolled step ops (0%)          | ETA:  --:--:--"
     ]
    },
    {
     "name": "stderr",
     "output_type": "stream",
     "text": [
      "/Users/apple1/TFCA/nengo-dl/nengo_dl/simulator.py:1223: RuntimeWarning: Simulator with model=Model: <Network (unlabeled) at 0x12340ddd8>, dt=0.001000 was deallocated while open. Simulators should be closed manually to ensure resources are properly freed.\n",
      "  \"are properly freed.\" % self.model, RuntimeWarning)\n"
     ]
    },
    {
     "name": "stdout",
     "output_type": "stream",
     "text": [
      "Construction finished in 0:00:00                                               \n"
     ]
    }
   ],
   "source": [
    "# construct the network\n",
    "net, inp, out = build_network(softlif_neurons)\n",
    "with net:\n",
    "    in_p = nengo.Probe(inp)\n",
    "    out_p = nengo.Probe(out)\n",
    "\n",
    "# construct the simulator\n",
    "minibatch_size = 10\n",
    "sim = nengo_dl.Simulator(net, minibatch_size=minibatch_size)"
   ]
  },
  {
   "cell_type": "code",
   "execution_count": 400,
   "metadata": {
    "collapsed": true,
    "deletable": true,
    "editable": true
   },
   "outputs": [],
   "source": [
    "traint = train[:,None,None]\n",
    "testt = test[:,None,None]\n",
    "train_x = {inp: traint}\n",
    "train_y = {out_p: y(traint)}\n",
    "test_x = {inp: testt}\n",
    "test_y = {out_p: y(testt)}"
   ]
  },
  {
   "cell_type": "code",
   "execution_count": 401,
   "metadata": {
    "collapsed": true,
    "deletable": true,
    "editable": true
   },
   "outputs": [],
   "source": [
    "opt = tf.train.MomentumOptimizer(learning_rate=0.0002, momentum=0.9, use_nesterov=True)\n",
    "#opt = tf.train.RMSPropOptimizer(2e-3)\n",
    "#opt = tf.train.AdadeltaOptimizer(learning_rate=1)"
   ]
  },
  {
   "cell_type": "code",
   "execution_count": 402,
   "metadata": {
    "collapsed": false,
    "deletable": true,
    "editable": true
   },
   "outputs": [
    {
     "name": "stdout",
     "output_type": "stream",
     "text": [
      "INFO:tensorflow:Restoring parameters from /var/folders/qd/c965ltdd52v33r5tcsy78dsh0000gr/T/tmp9j58v6mo/tmp\n"
     ]
    },
    {
     "name": "stderr",
     "output_type": "stream",
     "text": [
      "INFO:tensorflow:Restoring parameters from /var/folders/qd/c965ltdd52v33r5tcsy78dsh0000gr/T/tmp9j58v6mo/tmp\n"
     ]
    },
    {
     "name": "stdout",
     "output_type": "stream",
     "text": [
      "error before training:  3.2536833226680755\n",
      "Training finished in 0:00:07 (loss: 2.5511)                                    \n",
      "INFO:tensorflow:Restoring parameters from /var/folders/qd/c965ltdd52v33r5tcsy78dsh0000gr/T/tmph3jqqzbd/tmp\n"
     ]
    },
    {
     "name": "stderr",
     "output_type": "stream",
     "text": [
      "INFO:tensorflow:Restoring parameters from /var/folders/qd/c965ltdd52v33r5tcsy78dsh0000gr/T/tmph3jqqzbd/tmp\n"
     ]
    },
    {
     "name": "stdout",
     "output_type": "stream",
     "text": [
      "INFO:tensorflow:Restoring parameters from /var/folders/qd/c965ltdd52v33r5tcsy78dsh0000gr/T/tmpoui0jts7/tmp\n"
     ]
    },
    {
     "name": "stderr",
     "output_type": "stream",
     "text": [
      "INFO:tensorflow:Restoring parameters from /var/folders/qd/c965ltdd52v33r5tcsy78dsh0000gr/T/tmpoui0jts7/tmp\n"
     ]
    },
    {
     "name": "stdout",
     "output_type": "stream",
     "text": [
      "error after training: 2.7629636853933333\n"
     ]
    }
   ],
   "source": [
    "print(\"error before training: \", sim.loss(test_x, test_y, objective='mse'))\n",
    "\n",
    "do_training = True\n",
    "if do_training:\n",
    "    sim.train(train_x, train_y, opt, n_epochs=1000, objective='mse')\n",
    "    # save the parameters to file\n",
    "    sim.save_params(\"./uncertain_params\")\n",
    "else:\n",
    "    # load parameters\n",
    "    sim.load_params(\"./uncertain_params\")\n",
    "    \n",
    "print(\"error after training:\", sim.loss(test_x, test_y, objective='mse'))\n"
   ]
  },
  {
   "cell_type": "code",
   "execution_count": null,
   "metadata": {
    "collapsed": false,
    "deletable": true,
    "editable": true,
    "scrolled": true
   },
   "outputs": [
    {
     "name": "stdout",
     "output_type": "stream",
     "text": [
      "Simulation finished in 0:00:00                                                 \n",
      "Simulation finished in 0:00:00                                                 \n",
      "Simulation finished in 0:00:00                                                 \n",
      "Simulation finished in 0:00:00                                                 \n",
      "Simulation finished in 0:00:00                                                 \n",
      "Simulation finished in 0:00:00                                                 \n",
      "Simulation finished in 0:00:00                                                 \n",
      "Simulation finished in 0:00:00                                                 \n",
      "Simulation finished in 0:00:00                                                 \n",
      "Simulation finished in 0:00:00                                                 \n",
      "Simulation finished in 0:00:00                                                 \n",
      "Simulation finished in 0:00:00                                                 \n",
      "Simulation finished in 0:00:00                                                 \n",
      "Simulation finished in 0:00:00                                                 \n",
      "Simulation finished in 0:00:00                                                 \n",
      "Simulation finished in 0:00:00                                                 \n",
      "Simulation finished in 0:00:00                                                 \n",
      "Simulation finished in 0:00:00                                                 \n",
      "Simulation finished in 0:00:00                                                 \n",
      "Simulation finished in 0:00:00                                                 \n",
      "Simulation finished in 0:00:00                                                 \n",
      "Simulation finished in 0:00:00                                                 \n",
      "Simulation finished in 0:00:00                                                 \n",
      "Simulation finished in 0:00:00                                                 \n",
      "Simulation finished in 0:00:00                                                 \n",
      "Simulation finished in 0:00:00                                                 \n",
      "Simulation finished in 0:00:00                                                 \n",
      "Simulation finished in 0:00:00                                                 \n",
      "Simulation finished in 0:00:00                                                 \n",
      "Simulation finished in 0:00:00                                                 \n",
      "Simulation finished in 0:00:00                                                 \n",
      "Simulation finished in 0:00:00                                                 \n",
      "Simulation finished in 0:00:00                                                 \n",
      "Simulation finished in 0:00:00                                                 \n",
      "Simulation finished in 0:00:00                                                 \n",
      "Simulation finished in 0:00:00                                                 \n",
      "Simulation finished in 0:00:00                                                 \n",
      "Simulation finished in 0:00:00                                                 \n",
      "Simulation finished in 0:00:00                                                 \n",
      "Simulation finished in 0:00:00                                                 \n",
      "Simulation finished in 0:00:00                                                 \n",
      "Simulation finished in 0:00:00                                                 \n",
      "Simulation finished in 0:00:00                                                 \n",
      "Simulation finished in 0:00:00                                                 \n",
      "Simulation finished in 0:00:00                                                 \n",
      "Simulation finished in 0:00:00                                                 \n",
      "Simulation finished in 0:00:00                                                 \n",
      "Simulation finished in 0:00:00                                                 \n",
      "Simulation finished in 0:00:00                                                 \n",
      "Simulation finished in 0:00:00                                                 \n",
      "Simulation finished in 0:00:00                                                 \n",
      "Simulation finished in 0:00:00                                                 \n",
      "Simulation finished in 0:00:00                                                 \n",
      "Simulation finished in 0:00:00                                                 \n",
      "Simulation finished in 0:00:00                                                 \n",
      "Simulation finished in 0:00:00                                                 \n",
      "Simulation finished in 0:00:00                                                 \n",
      "Simulation finished in 0:00:00                                                 \n",
      "Simulation finished in 0:00:00                                                 \n",
      "Simulation finished in 0:00:00                                                 \n",
      "Simulation finished in 0:00:00                                                 \n",
      "Simulation finished in 0:00:00                                                 \n",
      "Simulation finished in 0:00:00                                                 \n",
      "Simulation finished in 0:00:00                                                 \n",
      "Simulation finished in 0:00:00                                                 \n",
      "Simulation finished in 0:00:00                                                 \n",
      "Simulation finished in 0:00:00                                                 \n",
      "Simulation finished in 0:00:00                                                 \n",
      "Simulation finished in 0:00:00                                                 \n",
      "Simulation finished in 0:00:00                                                 \n",
      "Simulation finished in 0:00:00                                                 \n",
      "Simulation finished in 0:00:00                                                 \n",
      "Simulation finished in 0:00:00                                                 \n",
      "Simulation finished in 0:00:00                                                 \n",
      "Simulation finished in 0:00:00                                                 \n",
      "Simulation finished in 0:00:00                                                 \n",
      "Simulation finished in 0:00:00                                                 \n",
      "Simulation finished in 0:00:00                                                 \n",
      "Simulation finished in 0:00:00                                                 \n",
      "Simulation finished in 0:00:00                                                 \n",
      "Simulation finished in 0:00:00                                                 \n",
      "Simulation finished in 0:00:00                                                 \n",
      "Simulation finished in 0:00:00                                                 \n",
      "Simulation finished in 0:00:00                                                 \n",
      "Simulation finished in 0:00:00                                                 \n",
      "Simulation finished in 0:00:00                                                 \n",
      "Simulation finished in 0:00:00                                                 \n",
      "Simulation finished in 0:00:00                                                 \n",
      "Simulation finished in 0:00:00                                                 \n",
      "Simulation finished in 0:00:00                                                 \n",
      "Simulation finished in 0:00:00                                                 \n",
      "Simulation finished in 0:00:00                                                 \n",
      "Simulation finished in 0:00:00                                                 \n",
      "Simulation finished in 0:00:00                                                 \n",
      "Simulation finished in 0:00:00                                                 \n",
      "Simulation finished in 0:00:00                                                 \n",
      "Simulation finished in 0:00:00                                                 \n",
      "Simulation finished in 0:00:00                                                 \n",
      "Simulation finished in 0:00:00                                                 \n",
      "Simulation finished in 0:00:00                                                 \n",
      "Simulation finished in 0:00:00                                                 \n",
      "Simulation finished in 0:00:00                                                 \n",
      "Simulation finished in 0:00:00                                                 \n",
      "Simulation finished in 0:00:00                                                 \n",
      "Simulation finished in 0:00:00                                                 \n",
      "Simulation finished in 0:00:00                                                 \n",
      "Simulation finished in 0:00:00                                                 \n",
      "Simulation finished in 0:00:00                                                 \n",
      "Simulation finished in 0:00:00                                                 \n",
      "Simulation finished in 0:00:00                                                 \n",
      "Simulation finished in 0:00:00                                                 \n",
      "Simulation finished in 0:00:00                                                 \n",
      "Simulation finished in 0:00:00                                                 \n",
      "Simulation finished in 0:00:00                                                 \n",
      "Simulation finished in 0:00:00                                                 \n",
      "Simulation finished in 0:00:00                                                 \n",
      "Simulation finished in 0:00:00                                                 \n",
      "Simulation finished in 0:00:00                                                 \n",
      "Simulation finished in 0:00:00                                                 \n",
      "Simulation finished in 0:00:00                                                 \n",
      "Simulation finished in 0:00:00                                                 \n",
      "Simulation finished in 0:00:00                                                 \n",
      "Simulation finished in 0:00:00                                                 \n",
      "Simulation finished in 0:00:00                                                 \n",
      "Simulation finished in 0:00:00                                                 \n",
      "Simulation finished in 0:00:00                                                 \n",
      "Simulation finished in 0:00:00                                                 \n",
      "Simulation finished in 0:00:00                                                 \n",
      "Simulation finished in 0:00:00                                                 \n",
      "Simulation finished in 0:00:00                                                 \n",
      "Simulation finished in 0:00:00                                                 \n",
      "Simulation finished in 0:00:00                                                 \n",
      "Simulation finished in 0:00:00                                                 \n",
      "Simulation finished in 0:00:00                                                 \n",
      "Simulation finished in 0:00:00                                                 \n",
      "Simulation finished in 0:00:00                                                 \n",
      "Simulation finished in 0:00:00                                                 \n",
      "Simulation finished in 0:00:00                                                 \n",
      "Simulation finished in 0:00:00                                                 \n",
      "Simulation finished in 0:00:00                                                 \n",
      "Simulation finished in 0:00:00                                                 \n",
      "Simulation finished in 0:00:00                                                 \n",
      "Simulation finished in 0:00:00                                                 \n",
      "Simulation finished in 0:00:00                                                 \n",
      "Simulation finished in 0:00:00                                                 \n",
      "Simulation finished in 0:00:00                                                 \n",
      "Simulation finished in 0:00:00                                                 \n",
      "Simulation finished in 0:00:00                                                 \n",
      "Simulation finished in 0:00:00                                                 \n",
      "Simulation finished in 0:00:00                                                 \n",
      "Simulation finished in 0:00:00                                                 \n",
      "Simulation finished in 0:00:00                                                 \n",
      "Simulation finished in 0:00:00                                                 \n",
      "Simulation finished in 0:00:00                                                 \n",
      "Simulation finished in 0:00:00                                                 \n",
      "Simulation finished in 0:00:00                                                 \n",
      "Simulation finished in 0:00:00                                                 \n",
      "Simulation finished in 0:00:00                                                 \n",
      "Simulation finished in 0:00:00                                                 \n",
      "Simulation finished in 0:00:00                                                 \n",
      "Simulation finished in 0:00:00                                                 \n",
      "Simulation finished in 0:00:00                                                 \n",
      "Simulation finished in 0:00:00                                                 \n",
      "Simulation finished in 0:00:00                                                 \n",
      "Simulation finished in 0:00:00                                                 \n",
      "Simulation finished in 0:00:00                                                 \n",
      "Simulation finished in 0:00:00                                                 \n",
      "Simulation finished in 0:00:00                                                 \n",
      "Simulation finished in 0:00:00                                                 \n",
      "Simulation finished in 0:00:00                                                 \n",
      "Simulation finished in 0:00:00                                                 \n",
      "Simulation finished in 0:00:00                                                 \n",
      "Simulation finished in 0:00:00                                                 \n",
      "Simulation finished in 0:00:00                                                 \n",
      "Simulation finished in 0:00:00                                                 \n",
      "Simulation finished in 0:00:00                                                 \n",
      "Simulation finished in 0:00:00                                                 \n",
      "Simulation finished in 0:00:00                                                 \n",
      "Simulation finished in 0:00:00                                                 \n",
      "Simulation finished in 0:00:00                                                 \n",
      "Simulation finished in 0:00:00                                                 \n",
      "Simulation finished in 0:00:00                                                 \n",
      "Simulation finished in 0:00:00                                                 \n",
      "Simulation finished in 0:00:00                                                 \n",
      "Simulation finished in 0:00:00                                                 \n",
      "Simulation finished in 0:00:00                                                 \n",
      "Simulation finished in 0:00:00                                                 \n",
      "Simulation finished in 0:00:00                                                 \n",
      "Simulation finished in 0:00:00                                                 \n",
      "Simulation finished in 0:00:00                                                 \n",
      "Simulation finished in 0:00:00                                                 \n",
      "Simulation finished in 0:00:00                                                 \n",
      "Simulation finished in 0:00:00                                                 \n",
      "Simulation finished in 0:00:00                                                 \n",
      "Simulation finished in 0:00:00                                                 \n",
      "Simulation finished in 0:00:00                                                 \n",
      "Simulation finished in 0:00:00                                                 \n",
      "Simulation finished in 0:00:00                                                 \n",
      "Simulation finished in 0:00:00                                                 \n",
      "Simulation finished in 0:00:00                                                 \n",
      "Simulation finished in 0:00:00                                                 \n",
      "Simulation finished in 0:00:00                                                 \n",
      "Simulation finished in 0:00:00                                                 \n",
      "Simulation finished in 0:00:00                                                 \n",
      "Simulation finished in 0:00:00                                                 \n",
      "Simulation finished in 0:00:00                                                 \n",
      "Simulation finished in 0:00:00                                                 \n",
      "Simulation finished in 0:00:00                                                 \n",
      "Simulation finished in 0:00:00                                                 \n",
      "Simulation finished in 0:00:00                                                 \n",
      "Simulation finished in 0:00:00                                                 \n",
      "Simulation finished in 0:00:00                                                 \n",
      "Simulation finished in 0:00:00                                                 \n",
      "Simulation finished in 0:00:00                                                 \n",
      "Simulation finished in 0:00:00                                                 \n",
      "Simulation finished in 0:00:00                                                 \n",
      "Simulation finished in 0:00:00                                                 \n",
      "Simulation finished in 0:00:00                                                 \n",
      "Simulation finished in 0:00:00                                                 \n",
      "Simulation finished in 0:00:00                                                 \n",
      "Simulation finished in 0:00:00                                                 \n",
      "Simulation finished in 0:00:00                                                 \n",
      "Simulation finished in 0:00:00                                                 \n",
      "Simulation finished in 0:00:00                                                 \n",
      "Simulation finished in 0:00:00                                                 \n",
      "Simulation finished in 0:00:00                                                 \n",
      "Simulation finished in 0:00:00                                                 \n",
      "Simulation finished in 0:00:00                                                 \n",
      "Simulation finished in 0:00:00                                                 \n",
      "Simulation finished in 0:00:00                                                 \n",
      "Simulation finished in 0:00:00                                                 \n",
      "Simulation finished in 0:00:00                                                 \n",
      "Simulation finished in 0:00:00                                                 \n",
      "Simulation finished in 0:00:00                                                 \n",
      "Simulation finished in 0:00:00                                                 \n",
      "Simulation finished in 0:00:00                                                 \n",
      "Simulation finished in 0:00:00                                                 \n",
      "Simulation finished in 0:00:00                                                 \n",
      "Simulation finished in 0:00:00                                                 \n",
      "Simulation finished in 0:00:00                                                 \n",
      "Simulation finished in 0:00:00                                                 \n",
      "Simulation finished in 0:00:00                                                 \n",
      "Simulation finished in 0:00:00                                                 \n",
      "Simulation finished in 0:00:00                                                 \n",
      "Simulation finished in 0:00:00                                                 \n",
      "Simulation finished in 0:00:00                                                 \n",
      "Simulation finished in 0:00:00                                                 \n",
      "Simulation finished in 0:00:00                                                 \n",
      "Simulation finished in 0:00:00                                                 \n",
      "Simulation finished in 0:00:00                                                 \n",
      "Simulation finished in 0:00:00                                                 \n",
      "Simulation finished in 0:00:00                                                 \n",
      "Simulation finished in 0:00:00                                                 \n",
      "Simulation finished in 0:00:00                                                 \n",
      "Simulation finished in 0:00:00                                                 \n",
      "Simulation finished in 0:00:00                                                 \n",
      "Simulation finished in 0:00:00                                                 \n",
      "Simulation finished in 0:00:00                                                 \n",
      "Simulation finished in 0:00:00                                                 \n",
      "Simulation finished in 0:00:00                                                 \n",
      "Simulation finished in 0:00:00                                                 \n",
      "Simulation finished in 0:00:00                                                 \n",
      "Simulation finished in 0:00:00                                                 \n",
      "Simulation finished in 0:00:00                                                 \n",
      "Simulation finished in 0:00:00                                                 \n",
      "Simulation finished in 0:00:00                                                 \n",
      "Simulation finished in 0:00:00                                                 \n",
      "Simulation finished in 0:00:00                                                 \n",
      "Simulation finished in 0:00:00                                                 \n",
      "Simulation finished in 0:00:00                                                 \n",
      "Simulation finished in 0:00:00                                                 \n",
      "Simulation finished in 0:00:00                                                 \n",
      "Simulation finished in 0:00:00                                                 \n",
      "Simulation finished in 0:00:00                                                 \n",
      "Simulation finished in 0:00:00                                                 \n",
      "Simulation finished in 0:00:00                                                 \n",
      "Simulation finished in 0:00:00                                                 \n",
      "Simulation finished in 0:00:00                                                 \n",
      "Simulation finished in 0:00:00                                                 \n",
      "Simulation finished in 0:00:00                                                 \n",
      "Simulation finished in 0:00:00                                                 \n",
      "Simulation finished in 0:00:00                                                 \n",
      "Simulation finished in 0:00:00                                                 \n",
      "Simulation finished in 0:00:00                                                 \n",
      "Simulation finished in 0:00:00                                                 \n",
      "Simulation finished in 0:00:00                                                 \n",
      "Simulation finished in 0:00:00                                                 \n",
      "Simulation finished in 0:00:00                                                 \n",
      "Simulation finished in 0:00:00                                                 \n",
      "Simulation finished in 0:00:00                                                 \n",
      "Simulation finished in 0:00:00                                                 \n",
      "Simulation finished in 0:00:00                                                 \n",
      "Simulation finished in 0:00:00                                                 \n",
      "Simulation finished in 0:00:00                                                 \n",
      "Simulation finished in 0:00:00                                                 \n",
      "Simulation finished in 0:00:00                                                 \n",
      "Simulation finished in 0:00:00                                                 \n",
      "Simulation finished in 0:00:00                                                 \n",
      "Simulation finished in 0:00:00                                                 \n",
      "Simulation finished in 0:00:00                                                 \n",
      "Simulation finished in 0:00:00                                                 \n",
      "Simulation finished in 0:00:00                                                 \n",
      "Simulation finished in 0:00:00                                                 \n",
      "Simulation finished in 0:00:00                                                 \n",
      "Simulation finished in 0:00:00                                                 \n",
      "Simulation finished in 0:00:00                                                 \n",
      "Simulation finished in 0:00:00                                                 \n",
      "Simulation finished in 0:00:00                                                 \n",
      "Simulation finished in 0:00:00                                                 \n",
      "Simulation finished in 0:00:00                                                 \n",
      "Simulation finished in 0:00:00                                                 \n",
      "Simulation finished in 0:00:00                                                 \n",
      "Simulation finished in 0:00:00                                                 \n",
      "Simulation finished in 0:00:00                                                 \n",
      "Simulation finished in 0:00:00                                                 \n",
      "Simulation finished in 0:00:00                                                 \n",
      "Simulation finished in 0:00:00                                                 \n",
      "Simulation finished in 0:00:00                                                 \n",
      "Simulation finished in 0:00:00                                                 \n",
      "Simulation finished in 0:00:00                                                 \n",
      "Simulation finished in 0:00:00                                                 \n",
      "Simulation finished in 0:00:00                                                 \n",
      "Simulation finished in 0:00:00                                                 \n",
      "Simulation finished in 0:00:00                                                 \n",
      "Simulation finished in 0:00:00                                                 \n",
      "Simulation finished in 0:00:00                                                 \n",
      "Simulation finished in 0:00:00                                                 \n",
      "Simulation finished in 0:00:00                                                 \n",
      "Simulation finished in 0:00:00                                                 \n",
      "Simulation finished in 0:00:00                                                 \n",
      "Simulation finished in 0:00:00                                                 \n",
      "Simulation finished in 0:00:00                                                 \n",
      "Simulation finished in 0:00:00                                                 \n",
      "Simulation finished in 0:00:00                                                 \n",
      "Simulation finished in 0:00:00                                                 \n",
      "Simulation finished in 0:00:00                                                 \n",
      "Simulation finished in 0:00:00                                                 \n",
      "Simulation finished in 0:00:00                                                 \n",
      "Simulation finished in 0:00:00                                                 \n",
      "Simulation finished in 0:00:00                                                 \n",
      "Simulation finished in 0:00:00                                                 \n",
      "Simulation finished in 0:00:00                                                 \n",
      "Simulation finished in 0:00:00                                                 \n",
      "Simulation finished in 0:00:00                                                 \n",
      "Simulation finished in 0:00:00                                                 \n",
      "Simulation finished in 0:00:00                                                 \n",
      "Simulation finished in 0:00:00                                                 \n",
      "Simulation finished in 0:00:00                                                 \n",
      "Simulation finished in 0:00:00                                                 \n",
      "Simulation finished in 0:00:00                                                 \n",
      "Simulation finished in 0:00:00                                                 \n",
      "Simulation finished in 0:00:00                                                 \n",
      "Simulation finished in 0:00:00                                                 \n",
      "Simulation finished in 0:00:00                                                 \n",
      "Simulation finished in 0:00:00                                                 \n",
      "Simulation finished in 0:00:00                                                 \n",
      "Simulation finished in 0:00:00                                                 \n",
      "Simulation finished in 0:00:00                                                 \n",
      "Simulation finished in 0:00:00                                                 \n",
      "Simulation finished in 0:00:00                                                 \n",
      "Simulation finished in 0:00:00                                                 \n",
      "Simulation finished in 0:00:00                                                 \n",
      "Simulation finished in 0:00:00                                                 \n",
      "Simulation finished in 0:00:00                                                 \n",
      "Simulation finished in 0:00:00                                                 \n",
      "Simulation finished in 0:00:00                                                 \n",
      "Simulation finished in 0:00:00                                                 \n",
      "Simulation finished in 0:00:00                                                 \n",
      "Simulation finished in 0:00:00                                                 \n",
      "Simulation finished in 0:00:00                                                 \n",
      "Simulation finished in 0:00:00                                                 \n",
      "Simulation finished in 0:00:00                                                 \n",
      "Simulation finished in 0:00:00                                                 \n",
      "Simulation finished in 0:00:00                                                 \n",
      "Simulation finished in 0:00:00                                                 \n",
      "Simulation finished in 0:00:00                                                 \n",
      "Simulation finished in 0:00:00                                                 \n",
      "Simulation finished in 0:00:00                                                 \n",
      "Simulation finished in 0:00:00                                                 \n",
      "Simulation finished in 0:00:00                                                 \n",
      "Simulation finished in 0:00:00                                                 \n",
      "Simulation finished in 0:00:00                                                 \n",
      "Simulation finished in 0:00:00                                                 \n",
      "Simulation finished in 0:00:00                                                 \n",
      "Simulation finished in 0:00:00                                                 \n",
      "Simulation finished in 0:00:00                                                 \n",
      "Simulation finished in 0:00:00                                                 \n",
      "Simulation finished in 0:00:00                                                 \n",
      "Simulation finished in 0:00:00                                                 \n",
      "Simulation finished in 0:00:00                                                 \n",
      "Simulation finished in 0:00:00                                                 \n",
      "Simulation finished in 0:00:00                                                 \n",
      "Simulation finished in 0:00:00                                                 \n",
      "Simulation finished in 0:00:00                                                 \n",
      "Simulation finished in 0:00:00                                                 \n",
      "Simulation finished in 0:00:00                                                 \n",
      "Simulation finished in 0:00:00                                                 \n",
      "Simulation finished in 0:00:00                                                 \n",
      "Simulation finished in 0:00:00                                                 \n",
      "Simulation finished in 0:00:00                                                 \n",
      "Simulation finished in 0:00:00                                                 \n",
      "Simulation finished in 0:00:00                                                 \n",
      "Simulation finished in 0:00:00                                                 \n",
      "Simulation finished in 0:00:00                                                 \n",
      "Simulation finished in 0:00:00                                                 \n",
      "Simulation finished in 0:00:00                                                 \n",
      "Simulation finished in 0:00:00                                                 \n",
      "Simulation finished in 0:00:00                                                 \n",
      "Simulation finished in 0:00:00                                                 \n",
      "Simulation finished in 0:00:00                                                 \n",
      "Simulation finished in 0:00:00                                                 \n",
      "Simulation finished in 0:00:00                                                 \n",
      "Simulation finished in 0:00:00                                                 \n",
      "Simulation finished in 0:00:00                                                 \n",
      "Simulation finished in 0:00:00                                                 \n",
      "Simulation finished in 0:00:00                                                 \n",
      "Simulation finished in 0:00:00                                                 \n",
      "Simulation finished in 0:00:00                                                 \n",
      "Simulation finished in 0:00:00                                                 \n",
      "Simulation finished in 0:00:00                                                 \n",
      "Simulation finished in 0:00:00                                                 \n",
      "Simulation finished in 0:00:00                                                 \n",
      "Simulation finished in 0:00:00                                                 \n",
      "Simulation finished in 0:00:00                                                 \n",
      "Simulation finished in 0:00:00                                                 \n",
      "Simulation finished in 0:00:00                                                 \n",
      "Simulation finished in 0:00:00                                                 \n",
      "Simulation finished in 0:00:00                                                 \n",
      "Simulation finished in 0:00:00                                                 \n",
      "Simulation finished in 0:00:00                                                 \n",
      "Simulation finished in 0:00:00                                                 \n",
      "Simulation finished in 0:00:00                                                 \n",
      "Simulation finished in 0:00:00                                                 \n",
      "Simulation finished in 0:00:00                                                 \n",
      "Simulation finished in 0:00:00                                                 \n",
      "Simulation finished in 0:00:00                                                 \n",
      "Simulation finished in 0:00:00                                                 \n",
      "Simulation finished in 0:00:00                                                 \n",
      "Simulation finished in 0:00:00                                                 \n",
      "Simulation finished in 0:00:00                                                 \n",
      "Simulation finished in 0:00:00                                                 \n",
      "Simulation finished in 0:00:00                                                 \n",
      "Simulation finished in 0:00:00                                                 \n",
      "Simulation finished in 0:00:00                                                 \n",
      "Simulation finished in 0:00:00                                                 \n",
      "Simulation finished in 0:00:00                                                 \n",
      "Simulation finished in 0:00:00                                                 \n",
      "Simulation finished in 0:00:00                                                 \n",
      "Simulation finished in 0:00:00                                                 \n",
      "Simulation finished in 0:00:00                                                 \n",
      "Simulation finished in 0:00:00                                                 \n",
      "Simulation finished in 0:00:00                                                 \n",
      "Simulation finished in 0:00:00                                                 \n",
      "Simulation finished in 0:00:00                                                 \n",
      "Simulation finished in 0:00:00                                                 \n",
      "Simulation finished in 0:00:00                                                 \n",
      "Simulation finished in 0:00:00                                                 \n",
      "Simulation finished in 0:00:00                                                 \n",
      "Simulation finished in 0:00:00                                                 \n",
      "Simulation finished in 0:00:00                                                 \n",
      "Simulation finished in 0:00:00                                                 \n",
      "Simulation finished in 0:00:00                                                 \n",
      "Simulation finished in 0:00:00                                                 \n",
      "Simulation finished in 0:00:00                                                 \n",
      "Simulation finished in 0:00:00                                                 \n",
      "Simulation finished in 0:00:00                                                 \n",
      "Simulation finished in 0:00:00                                                 \n",
      "Simulation finished in 0:00:00                                                 \n",
      "Simulation finished in 0:00:00                                                 \n",
      "Simulation finished in 0:00:00                                                 \n",
      "Simulation finished in 0:00:00                                                 \n",
      "Simulation finished in 0:00:00                                                 \n",
      "Simulation finished in 0:00:00                                                 \n",
      "Simulation finished in 0:00:00                                                 \n",
      "Simulation finished in 0:00:00                                                 \n",
      "Simulation finished in 0:00:00                                                 \n",
      "Simulation finished in 0:00:00                                                 "
     ]
    }
   ],
   "source": [
    "T = 20\n",
    "outputs = np.zeros((T,target.size))\n",
    "for t in range(T):\n",
    "    for i in range(0,target.size,minibatch_size):\n",
    "        sim.run_steps(1,input_feeds={inp: target[i:i+minibatch_size,None,None]})\n",
    "    outputs[t] = sim.data[out_p].transpose(1,0,2).reshape((1000,))\n",
    "    sim.soft_reset(include_trainable=False, include_probes=True)"
   ]
  },
  {
   "cell_type": "code",
   "execution_count": 395,
   "metadata": {
    "collapsed": false,
    "deletable": true,
    "editable": true
   },
   "outputs": [],
   "source": [
    "predictive_mean = np.mean(outputs, axis=0)\n",
    "predictive_variance = np.var(outputs, axis=0)\n",
    "#tau = l**2 * (1 - drop_p) / (2 * N * model.weight_decay)\n",
    "#predictive_variance += tau**-1\n"
   ]
  },
  {
   "cell_type": "code",
   "execution_count": 396,
   "metadata": {
    "collapsed": false,
    "deletable": true,
    "editable": true
   },
   "outputs": [
    {
     "data": {
      "image/png": "[encoded data removed]",
      "text/plain": [
       "<matplotlib.figure.Figure at 0x128206400>"
      ]
     },
     "metadata": {},
     "output_type": "display_data"
    }
   ],
   "source": [
    "plt.plot(target,predictive_mean,label='out')\n",
    "plt.fill_between(target, predictive_mean-predictive_variance, predictive_mean+predictive_variance,\n",
    "    alpha=0.5, edgecolor='#CC4F1B', facecolor='#FF9848', linewidth=0, label='variance')\n",
    "plt.plot(target,y(target),label='target', color='green')\n",
    "plt.scatter(train,y(train), color='black')\n",
    "plt.legend(loc='upper left')\n",
    "\n",
    "sim.close()"
   ]
  },
  {
   "cell_type": "markdown",
   "metadata": {},
   "source": [
    "## Spiking"
   ]
  },
  {
   "cell_type": "code",
   "execution_count": 380,
   "metadata": {
    "collapsed": false,
    "deletable": true,
    "editable": true
   },
   "outputs": [
    {
     "name": "stdout",
     "output_type": "stream",
     "text": [
      "Building network\n",
      "Build finished in 0:00:00 \n",
      "Optimization finished in 0:00:00                                               \n",
      "Construction finished in 0:00:00                                               \n",
      "INFO:tensorflow:Restoring parameters from ./uncertain_params\n"
     ]
    },
    {
     "name": "stderr",
     "output_type": "stream",
     "text": [
      "INFO:tensorflow:Restoring parameters from ./uncertain_params\n"
     ]
    }
   ],
   "source": [
    "net, inp, out = build_network(lif_neurons, use_dropout=False)\n",
    "with net:\n",
    "    in_p = nengo.Probe(inp)\n",
    "    out_p = nengo.Probe(out)\n",
    "\n",
    "sim = nengo_dl.Simulator(net, minibatch_size=minibatch_size)#, unroll_simulation=10)\n",
    "sim.load_params(\"./uncertain_params\")"
   ]
  },
  {
   "cell_type": "code",
   "execution_count": 381,
   "metadata": {
    "collapsed": false
   },
   "outputs": [
    {
     "name": "stdout",
     "output_type": "stream",
     "text": [
      "INFO:tensorflow:Restoring parameters from /var/folders/qd/c965ltdd52v33r5tcsy78dsh0000gr/T/tmpmu9t8whw/tmp\n"
     ]
    },
    {
     "name": "stderr",
     "output_type": "stream",
     "text": [
      "INFO:tensorflow:Restoring parameters from /var/folders/qd/c965ltdd52v33r5tcsy78dsh0000gr/T/tmpmu9t8whw/tmp\n"
     ]
    },
    {
     "name": "stdout",
     "output_type": "stream",
     "text": [
      "spiking neuron error: 31.71%\n"
     ]
    }
   ],
   "source": [
    "n_steps = 50\n",
    "test_inputs_time = {inp: np.tile(v, (1, n_steps, 1)) for v in test_x.values()}\n",
    "test_targets_time = {out_p: np.tile(v, (1, n_steps, 1)) for v in test_y.values()}\n",
    "\n",
    "print(\"spiking neuron error: %.2f%%\" % sim.loss(test_inputs_time, test_targets_time,\n",
    "                                                objective='mse'))"
   ]
  },
  {
   "cell_type": "code",
   "execution_count": 382,
   "metadata": {
    "collapsed": false
   },
   "outputs": [],
   "source": [
    "target_steps = {inp: np.tile(target[:,None,None], (1, n_steps, 1))}"
   ]
  },
  {
   "cell_type": "code",
   "execution_count": 383,
   "metadata": {
    "collapsed": false,
    "scrolled": true
   },
   "outputs": [
    {
     "name": "stdout",
     "output_type": "stream",
     "text": [
      "Simulation finished in 0:00:00                                                 \n",
      "Simulation finished in 0:00:00                                                 \n",
      "Simulation finished in 0:00:00                                                 \n",
      "Simulation finished in 0:00:00                                                 \n",
      "Simulation finished in 0:00:00                                                 \n",
      "Simulation finished in 0:00:00                                                 \n",
      "Simulation finished in 0:00:00                                                 \n",
      "Simulation finished in 0:00:00                                                 \n",
      "Simulation finished in 0:00:00                                                 \n",
      "Simulation finished in 0:00:00                                                 \n",
      "Simulation finished in 0:00:00                                                 \n",
      "Simulation finished in 0:00:00                                                 \n",
      "Simulation finished in 0:00:00                                                 \n",
      "Simulation finished in 0:00:00                                                 \n",
      "Simulation finished in 0:00:00                                                 \n",
      "Simulation finished in 0:00:00                                                 \n",
      "Simulation finished in 0:00:00                                                 \n",
      "Simulation finished in 0:00:00                                                 \n",
      "Simulation finished in 0:00:00                                                 \n",
      "Simulation finished in 0:00:00                                                 \n",
      "Simulation finished in 0:00:00                                                 \n",
      "Simulation finished in 0:00:00                                                 \n",
      "Simulation finished in 0:00:00                                                 \n",
      "Simulation finished in 0:00:00                                                 \n",
      "Simulation finished in 0:00:00                                                 \n",
      "Simulation finished in 0:00:00                                                 \n",
      "Simulation finished in 0:00:00                                                 \n",
      "Simulation finished in 0:00:00                                                 \n",
      "Simulation finished in 0:00:00                                                 \n",
      "Simulation finished in 0:00:00                                                 \n",
      "Simulation finished in 0:00:00                                                 \n",
      "Simulation finished in 0:00:00                                                 \n",
      "Simulation finished in 0:00:00                                                 \n",
      "Simulation finished in 0:00:00                                                 \n",
      "Simulation finished in 0:00:00                                                 \n",
      "Simulation finished in 0:00:00                                                 \n",
      "Simulation finished in 0:00:00                                                 \n",
      "Simulation finished in 0:00:00                                                 \n",
      "Simulation finished in 0:00:00                                                 \n",
      "Simulation finished in 0:00:00                                                 \n",
      "Simulation finished in 0:00:00                                                 \n",
      "Simulation finished in 0:00:00                                                 \n",
      "Simulation finished in 0:00:00                                                 \n",
      "Simulation finished in 0:00:00                                                 \n",
      "Simulation finished in 0:00:00                                                 \n",
      "Simulation finished in 0:00:00                                                 \n",
      "Simulation finished in 0:00:00                                                 \n",
      "Simulation finished in 0:00:00                                                 \n",
      "Simulation finished in 0:00:00                                                 \n",
      "Simulation finished in 0:00:00                                                 \n",
      "Simulation finished in 0:00:00                                                 \n",
      "Simulation finished in 0:00:00                                                 \n",
      "Simulation finished in 0:00:00                                                 \n",
      "Simulation finished in 0:00:00                                                 \n",
      "Simulation finished in 0:00:00                                                 \n",
      "Simulation finished in 0:00:00                                                 \n",
      "Simulation finished in 0:00:00                                                 \n",
      "Simulation finished in 0:00:00                                                 \n",
      "Simulation finished in 0:00:00                                                 \n",
      "Simulation finished in 0:00:00                                                 \n",
      "Simulation finished in 0:00:00                                                 \n",
      "Simulation finished in 0:00:00                                                 \n",
      "Simulation finished in 0:00:00                                                 \n",
      "Simulation finished in 0:00:00                                                 \n",
      "Simulation finished in 0:00:00                                                 \n",
      "Simulation finished in 0:00:00                                                 \n",
      "Simulation finished in 0:00:00                                                 \n",
      "Simulation finished in 0:00:00                                                 \n",
      "Simulation finished in 0:00:00                                                 \n",
      "Simulation finished in 0:00:00                                                 \n",
      "Simulation finished in 0:00:00                                                 \n",
      "Simulation finished in 0:00:00                                                 \n",
      "Simulation finished in 0:00:00                                                 \n",
      "Simulation finished in 0:00:00                                                 \n",
      "Simulation finished in 0:00:00                                                 \n",
      "Simulation finished in 0:00:00                                                 \n",
      "Simulation finished in 0:00:00                                                 \n",
      "Simulation finished in 0:00:00                                                 \n",
      "Simulation finished in 0:00:00                                                 \n",
      "Simulation finished in 0:00:00                                                 \n",
      "Simulation finished in 0:00:00                                                 \n",
      "Simulation finished in 0:00:00                                                 \n",
      "Simulation finished in 0:00:00                                                 \n",
      "Simulation finished in 0:00:00                                                 \n",
      "Simulation finished in 0:00:00                                                 \n",
      "Simulation finished in 0:00:00                                                 \n",
      "Simulation finished in 0:00:00                                                 \n",
      "Simulation finished in 0:00:00                                                 \n",
      "Simulation finished in 0:00:00                                                 \n",
      "Simulation finished in 0:00:00                                                 \n",
      "Simulation finished in 0:00:00                                                 \n",
      "Simulation finished in 0:00:00                                                 \n",
      "Simulation finished in 0:00:00                                                 \n",
      "Simulation finished in 0:00:00                                                 \n",
      "Simulation finished in 0:00:00                                                 \n",
      "Simulation finished in 0:00:00                                                 \n",
      "Simulation finished in 0:00:00                                                 \n",
      "Simulation finished in 0:00:00                                                 \n",
      "Simulation finished in 0:00:00                                                 \n",
      "Simulation finished in 0:00:00                                                 \n"
     ]
    }
   ],
   "source": [
    "spiking_outputs = np.zeros((target.size,n_steps))\n",
    "spiking_inputs = np.zeros((target.size,n_steps))\n",
    "for i in range(0,target.size,minibatch_size):\n",
    "    sim.soft_reset(include_trainable=False, include_probes=True)\n",
    "    sim.run_steps(n_steps,input_feeds={inp: target_steps[inp][i:i+minibatch_size,:]})\n",
    "    spiking_outputs[i:i+minibatch_size] = sim.data[out_p][...,0]\n",
    "    spiking_inputs[i:i+minibatch_size] = sim.data[in_p][...,0]\n"
   ]
  },
  {
   "cell_type": "code",
   "execution_count": 386,
   "metadata": {
    "collapsed": false
   },
   "outputs": [],
   "source": [
    "predictive_mean = np.mean(spiking_outputs[:,-20:],axis=1)\n",
    "predictive_variance = np.var(spiking_outputs[:,-20:],axis=1)"
   ]
  },
  {
   "cell_type": "code",
   "execution_count": 387,
   "metadata": {
    "collapsed": false
   },
   "outputs": [
    {
     "data": {
      "text/plain": [
       "<matplotlib.legend.Legend at 0x129c1e588>"
      ]
     },
     "execution_count": 387,
     "metadata": {},
     "output_type": "execute_result"
    },
    {
     "data": {
      "image/png": "[encoded data removed]",
      "text/plain": [
       "<matplotlib.figure.Figure at 0x12ca9e208>"
      ]
     },
     "metadata": {},
     "output_type": "display_data"
    }
   ],
   "source": [
    "plt.plot(target,predictive_mean,label='out')\n",
    "#plt.plot(target,spiking_outputs[:,-1],label='out')\n",
    "plt.fill_between(target, predictive_mean-predictive_variance, predictive_mean+predictive_variance,\n",
    "    alpha=0.5, edgecolor='#CC4F1B', facecolor='#FF9848', linewidth=0, label='variance')\n",
    "plt.plot(target,y(target),label='target', color='green')\n",
    "plt.scatter(train,y(train), color='black')\n",
    "plt.ylim([-10,10])\n",
    "plt.legend(loc='upper left')"
   ]
  },
  {
   "cell_type": "code",
   "execution_count": 365,
   "metadata": {
    "collapsed": false
   },
   "outputs": [
    {
     "name": "stdout",
     "output_type": "stream",
     "text": [
      "[-6.75899722e-03 -6.75899722e-03 -6.75899722e-03 -6.75899722e-03\n",
      " -6.75899722e-03 -6.75899722e-03 -6.75899722e-03 -6.72341064e-02\n",
      " -2.93727696e-01 -7.43966877e-01  2.25667763e+00 -1.93353329e+01\n",
      " -1.01364288e+01  3.69659352e+00 -6.75899722e-03  2.16137238e+01\n",
      "  9.41092014e+00  8.97747803e+00  2.36178350e+00 -7.56237221e+00\n",
      " -6.75899722e-03  7.92565346e+00  1.47050664e-01 -2.46277285e+00\n",
      " -9.74903774e+00 -1.74700470e+01 -6.75899722e-03 -7.88360643e+00\n",
      "  2.63290024e+01  4.30075788e+00  9.25246656e-01 -6.75899722e-03\n",
      "  6.08329201e+00 -8.24253336e-02 -6.39959633e-01  8.97224605e-01\n",
      "  4.45372248e+00  1.18606806e+01 -5.58478069e+00 -9.21526134e-01\n",
      " -1.24509125e+01 -5.69439268e+00  6.13010454e+00  2.02948933e+01\n",
      "  2.93129516e+00  5.51350832e+00 -3.02129292e+00 -6.38809156e+00\n",
      " -7.21136904e+00  1.61987972e+01]\n",
      "0.7355494472414611\n"
     ]
    },
    {
     "data": {
      "text/plain": [
       "1.6302539825439453"
      ]
     },
     "execution_count": 365,
     "metadata": {},
     "output_type": "execute_result"
    }
   ],
   "source": [
    "print(spiking_outputs[100])\n",
    "print(y(target[100]))\n",
    "np.mean(spiking_outputs[100,-10:])"
   ]
  },
  {
   "cell_type": "code",
   "execution_count": 334,
   "metadata": {
    "collapsed": true
   },
   "outputs": [],
   "source": [
    "sim.close()"
   ]
  },
  {
   "cell_type": "code",
   "execution_count": 145,
   "metadata": {
    "collapsed": true
   },
   "outputs": [],
   "source": [
    "sim.soft_reset(include_trainable=False, include_probes=True)"
   ]
  },
  {
   "cell_type": "markdown",
   "metadata": {},
   "source": [
    "# Tensorflow Test"
   ]
  },
  {
   "cell_type": "code",
   "execution_count": null,
   "metadata": {
    "collapsed": true
   },
   "outputs": [],
   "source": [
    "for i in range(0,target.size,minibatch_size):\n",
    "        sim.run_steps(1,input_feeds={inp: target[i:i+minibatch_size,None,None]})\n",
    "    outputs[t] = sim.data[out_p].transpose(1,0,2).reshape((1000,))"
   ]
  },
  {
   "cell_type": "code",
   "execution_count": null,
   "metadata": {
    "collapsed": false,
    "deletable": true,
    "editable": true
   },
   "outputs": [],
   "source": [
    "sess = tf.InteractiveSession()\n",
    "place_x = tf.placeholder(tf.float32, [None, 1])\n",
    "place_y = tf.placeholder(tf.float32, [None, 1])\n",
    "hidden = tf.layers.dense(place_x, units = 20, activation = tf.nn.relu)\n",
    "output = tf.layers.dense(hidden, units = 1, activation = tf.identity)\n",
    "cost = tf.losses.mean_squared_error(output, place_y)\n",
    "optimize = tf.train.AdamOptimizer().minimize(cost)"
   ]
  },
  {
   "cell_type": "code",
   "execution_count": null,
   "metadata": {
    "collapsed": false,
    "deletable": true,
    "editable": true
   },
   "outputs": [],
   "source": [
    "# Train model \n",
    "sess.run(tf.global_variables_initializer())\n",
    "for i in range(1000):\n",
    "    feed_dict = {\n",
    "        place_x: traint[...,0], \n",
    "        place_y: y(traint[...,0])\n",
    "    }\n",
    "    _cost, _hid_out, _final_out, _ = sess.run([cost, hidden, output, optimize], feed_dict=feed_dict)\n",
    "print(_cost)\n"
   ]
  },
  {
   "cell_type": "code",
   "execution_count": null,
   "metadata": {
    "collapsed": false,
    "deletable": true,
    "editable": true
   },
   "outputs": [],
   "source": [
    "plt.scatter(traint[...,0],y(traint[...,0]),label='target')\n",
    "plt.scatter(traint[...,0],_final_out, label = 'out')"
   ]
  },
  {
   "cell_type": "code",
   "execution_count": null,
   "metadata": {
    "collapsed": true,
    "deletable": true,
    "editable": true
   },
   "outputs": [],
   "source": []
  }
 ],
 "metadata": {
  "kernelspec": {
   "display_name": "Python 3",
   "language": "python",
   "name": "python3"
  },
  "language_info": {
   "codemirror_mode": {
    "name": "ipython",
    "version": 3
   },
   "file_extension": ".py",
   "mimetype": "text/x-python",
   "name": "python",
   "nbconvert_exporter": "python",
   "pygments_lexer": "ipython3",
   "version": "3.6.0"
  }
 },
 "nbformat": 4,
 "nbformat_minor": 2
}
